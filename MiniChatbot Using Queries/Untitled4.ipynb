{
 "cells": [
  {
   "cell_type": "code",
   "execution_count": 3,
   "id": "c4078f96-a3ce-4517-9f02-66ca86ab9a50",
   "metadata": {},
   "outputs": [
    {
     "name": "stdout",
     "output_type": "stream",
     "text": [
      "Hello!I am chatbot.Ask me anything or type 'exit' to end the chat.\n"
     ]
    },
    {
     "name": "stdout",
     "output_type": "stream",
     "text": [
      "You:  name\n"
     ]
    },
    {
     "name": "stdout",
     "output_type": "stream",
     "text": [
      "ChatBot: I'm sorry, I don't understand that. Can you rephrase?\n"
     ]
    },
    {
     "name": "stdout",
     "output_type": "stream",
     "text": [
      "You:  creator\n"
     ]
    },
    {
     "name": "stdout",
     "output_type": "stream",
     "text": [
      "Chatbot : I was created by Tasfia :) \n"
     ]
    },
    {
     "name": "stdout",
     "output_type": "stream",
     "text": [
      "You:  python\n"
     ]
    },
    {
     "name": "stdout",
     "output_type": "stream",
     "text": [
      "Chatbot:python is a powerful programming language...you can do a lot of stuff with that\n"
     ]
    },
    {
     "name": "stdout",
     "output_type": "stream",
     "text": [
      "You:  help\n"
     ]
    },
    {
     "name": "stdout",
     "output_type": "stream",
     "text": [
      "ChatBot: I'm here to help! Try asking about my name, weather, time, or Python.\n"
     ]
    },
    {
     "name": "stdout",
     "output_type": "stream",
     "text": [
      "You:  hobby\n"
     ]
    },
    {
     "name": "stdout",
     "output_type": "stream",
     "text": [
      "ChatBot: My hobby is answering your questions!\n"
     ]
    },
    {
     "name": "stdout",
     "output_type": "stream",
     "text": [
      "You:  conda\n"
     ]
    },
    {
     "name": "stdout",
     "output_type": "stream",
     "text": [
      "ChatBot: Conda is a package and environment manager that comes with Anaconda.\n"
     ]
    },
    {
     "name": "stdout",
     "output_type": "stream",
     "text": [
      "You:  exit\n"
     ]
    },
    {
     "name": "stdout",
     "output_type": "stream",
     "text": [
      "Chatbot :Goodbye! Have a great day!\n"
     ]
    }
   ],
   "source": [
    "def chatbot():\n",
    "    print(\"Hello!I am chatbot.Ask me anything or type 'exit' to end the chat.\")\n",
    "    while True:\n",
    "        user_input=input(\"You: \").strip().lower()\n",
    "        if user_input=='exit':\n",
    "            print(\"Chatbot :Goodbye! Have a great day!\")\n",
    "            break\n",
    "        elif \"your name\" in user_input:\n",
    "            print(\"Chatbot: I'm Chatbot,your virtual assistant.\")\n",
    "        elif \"weather\" in user_input:\n",
    "            print(\"Chatbot:I can't check the weather right now, but it's always sunny here.\")\n",
    "        elif \"time\" in user_input:\n",
    "            from datetime import datetime\n",
    "            print(f\"Chatbot:The current time is {datetime.now().strftime('%H:%M:%S')}.\")\n",
    "        elif \"creator\" in user_input or \"made you\" in user_input:    \n",
    "            print(\"Chatbot : I was created by Tasfia :\"\") \")\n",
    "        elif \"python\" in user_input:\n",
    "            print(\"Chatbot:python is a powerful programming language...you can do a lot of stuff with that\")\n",
    "        elif \"joke\" in user_input:\n",
    "            print(\"Chatbot:Why do programmers prefer dark mode? Because light attracts bugs!\")\n",
    "        elif \"anaconda\" in user_input:\n",
    "            print(\"ChatBot: Anaconda is a popular Python distribution for data science and machine learning!\")\n",
    "        elif \"conda\" in user_input:\n",
    "            print(\"ChatBot: Conda is a package and environment manager that comes with Anaconda.\")\n",
    "        elif \"help\" in user_input:\n",
    "            print(\"ChatBot: I'm here to help! Try asking about my name, weather, time, or Python.\")\n",
    "        elif \"hobby\" in user_input:\n",
    "            print(\"ChatBot: My hobby is answering your questions!\")\n",
    "        else:\n",
    "            print(\"ChatBot: I'm sorry, I don't understand that. Can you rephrase?\")\n",
    "\n",
    "\n",
    "\n",
    "if __name__== \"__main__\":\n",
    "    chatbot()\n",
    "            \n",
    "            \n",
    "        \n",
    "        "
   ]
  },
  {
   "cell_type": "code",
   "execution_count": null,
   "id": "f042a17e-9ad7-4c66-bcbd-c20b40ac9a14",
   "metadata": {},
   "outputs": [],
   "source": []
  }
 ],
 "metadata": {
  "kernelspec": {
   "display_name": "Python 3 (ipykernel)",
   "language": "python",
   "name": "python3"
  },
  "language_info": {
   "codemirror_mode": {
    "name": "ipython",
    "version": 3
   },
   "file_extension": ".py",
   "mimetype": "text/x-python",
   "name": "python",
   "nbconvert_exporter": "python",
   "pygments_lexer": "ipython3",
   "version": "3.11.0"
  }
 },
 "nbformat": 4,
 "nbformat_minor": 5
}
